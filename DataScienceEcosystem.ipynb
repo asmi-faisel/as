{
  "metadata": {
    "kernelspec": {
      "name": "python",
      "display_name": "Python (Pyodide)",
      "language": "python"
    },
    "language_info": {
      "name": ""
    }
  },
  "nbformat_minor": 4,
  "nbformat": 4,
  "cells": [
    {
      "cell_type": "markdown",
      "source": "# h1:Data Science Tools and Ecosystem",
      "metadata": {}
    },
    {
      "cell_type": "markdown",
      "source": "In this notebook, Data Science Tools and Ecosystem are summarized.",
      "metadata": {}
    },
    {
      "cell_type": "markdown",
      "source": "Some of the popular languages that Data Scientists use are:\n\n1. python\n2. R\n3. Javascript",
      "metadata": {}
    },
    {
      "cell_type": "markdown",
      "source": "Some of the commonly used libraries used by Data Scientists include:\n\n- pandas\n- matplotlib\n- tensorflow",
      "metadata": {}
    },
    {
      "cell_type": "markdown",
      "source": "|Data Science Tools|\n|------------------|\n|Apache spark|\n|tensor flow|\n|Scikit learn|\n",
      "metadata": {}
    },
    {
      "cell_type": "markdown",
      "source": "# h3:Below are a few examples of evaluating arithmetic expressions in Python",
      "metadata": {}
    },
    {
      "cell_type": "code",
      "source": "# this a simple arithmetic expression to mutiply then add integers.",
      "metadata": {
        "trusted": true
      },
      "outputs": [],
      "execution_count": null
    },
    {
      "cell_type": "code",
      "source": "(3*4)+5\n",
      "metadata": {
        "trusted": true
      },
      "outputs": [],
      "execution_count": null
    },
    {
      "cell_type": "code",
      "source": "# This will convert 200 minutes to hours by diving by 60",
      "metadata": {
        "trusted": true
      },
      "outputs": [],
      "execution_count": null
    },
    {
      "cell_type": "code",
      "source": "minutes = 200\nhours = minutes / 60\nhours\n\n",
      "metadata": {
        "trusted": true,
        "tags": [],
        "editable": true,
        "slideshow": {
          "slide_type": ""
        }
      },
      "outputs": [],
      "execution_count": null
    },
    {
      "cell_type": "code",
      "source": "",
      "metadata": {
        "trusted": true
      },
      "outputs": [],
      "execution_count": null
    },
    {
      "cell_type": "markdown",
      "source": "##Objectives:##",
      "metadata": {}
    },
    {
      "cell_type": "markdown",
      "source": "# this is a simple arithmetic expression to multiply and add integers\n\n(3*4)+5\n",
      "metadata": {}
    },
    {
      "cell_type": "code",
      "source": "-objectives:-\n",
      "metadata": {
        "trusted": true
      },
      "outputs": [],
      "execution_count": null
    },
    {
      "cell_type": "markdown",
      "source": "-objectives:-\n",
      "metadata": {}
    },
    {
      "cell_type": "markdown",
      "source": "**objectives**",
      "metadata": {}
    },
    {
      "cell_type": "markdown",
      "source": "- integer insertion\n- mathemtical operations\n- split code",
      "metadata": {}
    },
    {
      "cell_type": "markdown",
      "source": "# h2: Author",
      "metadata": {}
    },
    {
      "cell_type": "markdown",
      "source": "ASMI",
      "metadata": {}
    },
    {
      "cell_type": "code",
      "source": "",
      "metadata": {
        "trusted": true
      },
      "outputs": [],
      "execution_count": null
    }
  ]
}